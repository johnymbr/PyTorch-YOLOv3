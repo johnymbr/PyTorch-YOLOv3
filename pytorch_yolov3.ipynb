{
  "nbformat": 4,
  "nbformat_minor": 0,
  "metadata": {
    "colab": {
      "name": "pytorch-yolov3.ipynb",
      "provenance": [],
      "collapsed_sections": []
    },
    "kernelspec": {
      "name": "python3",
      "display_name": "Python 3"
    },
    "accelerator": "GPU"
  },
  "cells": [
    {
      "cell_type": "markdown",
      "metadata": {
        "id": "hJ0xLvCgVjbk",
        "colab_type": "text"
      },
      "source": [
        "Verifica qual a versão do Pytorch instalado."
      ]
    },
    {
      "cell_type": "code",
      "metadata": {
        "id": "zSdWqNoRVdu1",
        "colab_type": "code",
        "colab": {}
      },
      "source": [
        "import torch\n",
        "import torchvision\n",
        "print(torch.__version__)\n",
        "print(torch.cuda.is_available())\n",
        "print(torchvision.__version__)"
      ],
      "execution_count": 0,
      "outputs": []
    },
    {
      "cell_type": "code",
      "metadata": {
        "id": "GcHTq6oFYaNq",
        "colab_type": "code",
        "colab": {}
      },
      "source": [
        "!cd /content\n",
        "!ls -la"
      ],
      "execution_count": 0,
      "outputs": []
    },
    {
      "cell_type": "code",
      "metadata": {
        "id": "EeEB0om5f2Yf",
        "colab_type": "code",
        "colab": {}
      },
      "source": [
        "!rm -rf /content/pytorch-yolov3/"
      ],
      "execution_count": 0,
      "outputs": []
    },
    {
      "cell_type": "markdown",
      "metadata": {
        "id": "kt0woha6X5gq",
        "colab_type": "text"
      },
      "source": [
        "Verifica se ja foi realizado o clone do repositório do experimento. Se não tiver, faz o clone."
      ]
    },
    {
      "cell_type": "code",
      "metadata": {
        "id": "RxqsQjYfV_r_",
        "colab_type": "code",
        "colab": {}
      },
      "source": [
        "# TODO: change URL to your fork of my repository if necessary.\n",
        "git_repo_url = 'https://github.com/johnymbr/PyTorch-YOLOv3'\n",
        "\n",
        "import os\n",
        "import pathlib\n",
        "from os.path import exists, join, basename, splitext\n",
        "\n",
        "%cd /content\n",
        "project_name = os.path.abspath('pytorch-yolov3')\n",
        "if not exists(project_name):\n",
        "    print(\"Clone repositório\")\n",
        "    # clone \"depth 1\" will only get the latest copy of the relevant files.\n",
        "    !git clone -q --recurse-submodules --depth 1 $git_repo_url {project_name}\n",
        "    # build\n",
        "    %cd {project_name}\n",
        "    !pip3 install -r {os.path.abspath(\"requirements.txt\")}\n",
        "else:\n",
        "    %cd {project_name}"
      ],
      "execution_count": 0,
      "outputs": []
    },
    {
      "cell_type": "markdown",
      "metadata": {
        "id": "A5YmnnqWiT3R",
        "colab_type": "text"
      },
      "source": [
        "Download pesos pré-treinados"
      ]
    },
    {
      "cell_type": "code",
      "metadata": {
        "id": "LAdK_Cm3iQw6",
        "colab_type": "code",
        "colab": {}
      },
      "source": [
        "%cd weights/\n",
        "!bash download_weights.sh"
      ],
      "execution_count": 0,
      "outputs": []
    },
    {
      "cell_type": "code",
      "metadata": {
        "id": "zzE1EUJHc-27",
        "colab_type": "code",
        "colab": {}
      },
      "source": [
        "%cd /content/pytorch-yolov3/\n",
        "!python3 train.py --model_def config/yolov3-custom.cfg --data_config config/custom.data --epochs 50 --pretrained_weights weights/darknet53.conv.74"
      ],
      "execution_count": 0,
      "outputs": []
    },
    {
      "cell_type": "code",
      "metadata": {
        "id": "QESNFEt1Bc9y",
        "colab_type": "code",
        "outputId": "9898e51b-3463-4d97-997d-a2e902204a64",
        "colab": {
          "base_uri": "https://localhost:8080/",
          "height": 51
        }
      },
      "source": [
        "!find checkpoints/"
      ],
      "execution_count": 7,
      "outputs": [
        {
          "output_type": "stream",
          "text": [
            "checkpoints/\n",
            "checkpoints/yolov3_ckpt.pth\n"
          ],
          "name": "stdout"
        }
      ]
    },
    {
      "cell_type": "code",
      "metadata": {
        "id": "-eAE7jMw_8Mf",
        "colab_type": "code",
        "colab": {}
      },
      "source": [
        "from google.colab import files\n",
        "files.download('checkpoints/yolov3_ckpt.pth') "
      ],
      "execution_count": 0,
      "outputs": []
    },
    {
      "cell_type": "markdown",
      "metadata": {
        "id": "Do78Su5wcu_O",
        "colab_type": "text"
      },
      "source": [
        "Rodando o teste"
      ]
    },
    {
      "cell_type": "code",
      "metadata": {
        "id": "P20AJk1YcuKL",
        "colab_type": "code",
        "colab": {}
      },
      "source": [
        "!python3 test.py --model_def config/yolov3-custom.cfg --data_config config/custom.data --class_path data/custom/classes.names --weights_path checkpoints/yolov3_ckpt.pth"
      ],
      "execution_count": 0,
      "outputs": []
    },
    {
      "cell_type": "markdown",
      "metadata": {
        "id": "5VznvaWieAMo",
        "colab_type": "text"
      },
      "source": [
        "Rodando a deteccao"
      ]
    },
    {
      "cell_type": "code",
      "metadata": {
        "id": "igZh1kwNeCbl",
        "colab_type": "code",
        "colab": {}
      },
      "source": [
        "!python3 detect.py --image_folder data/exemplos/ --model_def config/yolov3-custom.cfg --class_path data/custom/classes.names --weights_path checkpoints/yolov3_ckpt.pth"
      ],
      "execution_count": 0,
      "outputs": []
    },
    {
      "cell_type": "code",
      "metadata": {
        "id": "hd1kFuj9yovl",
        "colab_type": "code",
        "colab": {}
      },
      "source": [
        "!zip -r output/output.zip output"
      ],
      "execution_count": 0,
      "outputs": []
    },
    {
      "cell_type": "code",
      "metadata": {
        "id": "jVhosF3-y2au",
        "colab_type": "code",
        "colab": {}
      },
      "source": [
        "from google.colab import files\n",
        "files.download('output/output.zip') "
      ],
      "execution_count": 0,
      "outputs": []
    },
    {
      "cell_type": "code",
      "metadata": {
        "id": "HKa_BJ292mLy",
        "colab_type": "code",
        "colab": {}
      },
      "source": [
        "!rm -r output/*"
      ],
      "execution_count": 0,
      "outputs": []
    },
    {
      "cell_type": "code",
      "metadata": {
        "id": "7Bhu5WT_GKng",
        "colab_type": "code",
        "colab": {}
      },
      "source": [
        "!rm -r data/exemplos/*"
      ],
      "execution_count": 0,
      "outputs": []
    }
  ]
}